{
 "cells": [
  {
   "cell_type": "code",
   "execution_count": 2,
   "metadata": {},
   "outputs": [],
   "source": [
    "import cv2\n",
    "import numpy as np\n",
    "\n",
    "# The paths of all the images\n",
    "image_paths = [r'C:\\Users\\Priyanshu Banik\\Desktop\\Coding Stuff\\UAS Round 2\\UAS Task Round 2\\1.png',\n",
    "               r'C:\\Users\\Priyanshu Banik\\Desktop\\Coding Stuff\\UAS Round 2\\UAS Task Round 2\\2.png',\n",
    "               r'C:\\Users\\Priyanshu Banik\\Desktop\\Coding Stuff\\UAS Round 2\\UAS Task Round 2\\3.png'\n",
    "               ]"
   ]
  },
  {
   "cell_type": "code",
   "execution_count": 3,
   "metadata": {},
   "outputs": [],
   "source": [
    "# Constants\n",
    "lower_red = np.array([0,255,255])\n",
    "upper_red = np.array([10,255,255])\n",
    "\n",
    "lower_blue = np.array([100,255,255])\n",
    "upper_blue = np.array([140,255,255])\n",
    "\n",
    "lower_brown = np.array([10, 100, 20])\n",
    "upper_brown = np.array([20, 255, 200])\n",
    "\n",
    "lower_green = np.array([40, 40, 40])\n",
    "upper_green = np.array([70, 255, 255])"
   ]
  },
  {
   "cell_type": "code",
   "execution_count": 4,
   "metadata": {},
   "outputs": [],
   "source": [
    "results = []"
   ]
  },
  {
   "cell_type": "code",
   "execution_count": 5,
   "metadata": {},
   "outputs": [],
   "source": [
    "# necessary user defined functions\n",
    "def image_out(image, image_name = 'Image'):\n",
    "\n",
    "    cv2.imshow(image_name, image)\n",
    "    cv2.waitKey(0)\n",
    "    cv2.destroyAllWindows\n"
   ]
  },
  {
   "cell_type": "code",
   "execution_count": 6,
   "metadata": {},
   "outputs": [],
   "source": [
    "def count_houses(mask):\n",
    "    contours, _ = cv2.findContours(mask, cv2.RETR_TREE, cv2.CHAIN_APPROX_SIMPLE)\n",
    "    house_count = 0\n",
    "\n",
    "    # Loop over the contours to identify triangles\n",
    "    for contour in contours:\n",
    "        # Approximate the contour to reduce the number of points\n",
    "        epsilon = 0.005* cv2.arcLength(contour, True)\n",
    "        approx = cv2.approxPolyDP(contour, epsilon, True)\n",
    "\n",
    "        # If the approximated contour has 3 vertices, it's a triangle\n",
    "        if len(approx) == 3:\n",
    "            house_count += 1\n",
    "    \n",
    "    return house_count"
   ]
  },
  {
   "cell_type": "code",
   "execution_count": 7,
   "metadata": {},
   "outputs": [],
   "source": [
    "image_counter = 1\n",
    "for path in image_paths:\n",
    "\n",
    "    image = cv2.imread(path)\n",
    "    hsv_image = cv2.cvtColor(image, cv2.COLOR_BGR2HSV)\n",
    "\n",
    "    mask_red = cv2.inRange(hsv_image, lower_red, upper_red)\n",
    "    mask_blue = cv2.inRange(hsv_image, lower_blue, upper_blue)\n",
    "    mask_brown = cv2.inRange(hsv_image, lower_brown, upper_brown) # mask for the burnt grass\n",
    "    mask_green = cv2.inRange(hsv_image, lower_green, upper_green) # mask for the unburnt grass\n",
    "\n",
    "    red_b = count_houses(mask_red + mask_green)\n",
    "    red_ub = count_houses(mask_red + mask_brown)\n",
    "\n",
    "    blue_b = count_houses(mask_blue + mask_green)\n",
    "    blue_ub  = blue_b = count_houses(mask_blue + mask_brown)\n",
    "\n",
    "    n_house = [red_b+blue_b,red_ub+blue_ub]\n",
    "\n",
    "    priority_b = 1*red_b + 2*blue_b\n",
    "    priority_ub = 1*red_ub + 2*blue_ub\n",
    "\n",
    "    ratio = priority_b/priority_ub\n",
    "\n",
    "    results.append([f'image {image_counter}', n_house, [priority_b, priority_ub], ratio])\n",
    "    image_counter += 1\n",
    "\n",
    "    output_image = image.copy()\n",
    "    output_image[mask_brown != 0] = [13, 218, 253]  # Overlay burnt grass in yellow\n",
    "    output_image[mask_green != 0] = [255, 255, 0]  # Overlay unburnt grass in cyan\n",
    "    output_image_path = path.split('.')[0] + '_output.png'\n",
    "    cv2.imwrite(output_image_path, output_image)\n"
   ]
  },
  {
   "cell_type": "code",
   "execution_count": 8,
   "metadata": {},
   "outputs": [],
   "source": [
    "n_houses = [i[1] for i in results] \n",
    "priority_houses = [i[2] for i in results]\n",
    "priority_ratio = [i[3] for i in results]\n",
    "\n",
    "priority_dict = {x[0]:x[3] for x in results}\n",
    "sorted_dict = {k: v for k, v in sorted(priority_dict.items(), key=lambda item: item[1], reverse=True)}\n",
    "image_by_rescue_ratio = [k for k in sorted_dict]\n",
    "\n",
    "print(f'''\n",
    "Number of Houses in Burnt and Unburnt grass in each image:\n",
    "{n_houses}\n",
    "Priority of Houses in Burnt and Unburnt grass in each image:\n",
    "{priority_houses}\n",
    "Priority Ratio of Houses in Burnt and Unburnt grass in each image:\n",
    "{priority_ratio}\n",
    "Images by descending order of priority:\n",
    "{image_by_rescue_ratio}\n",
    "''')\n"
   ]
  },
  {
   "cell_type": "code",
   "execution_count": 14,
   "metadata": {},
   "outputs": [
    {
     "name": "stdout",
     "output_type": "stream",
     "text": [
      "Number of houses found: 4\n"
     ]
    }
   ],
   "source": [
    "file_path = r'1.png'\n",
    "# file_path = image_paths[0]\n",
    "\n",
    "image = cv2.imread(file_path)\n",
    "image_out(image)\n",
    "hsv_image = cv2.cvtColor(image, cv2.COLOR_BGR2HSV)\n",
    "mask_red = cv2.inRange(hsv_image, lower_red, upper_red)\n",
    "mask_blue = cv2.inRange(hsv_image, lower_blue, upper_blue)\n",
    "mask_brown = cv2.inRange(hsv_image, lower_brown, upper_brown) # mask for the burnt grass\n",
    "mask_green = cv2.inRange(hsv_image, lower_green, upper_green) # mask for the unburnt grass\n",
    "\n",
    "Mask = mask_blue + mask_brown\n",
    "\n",
    "masked_image = cv2.bitwise_and(image, image, mask=Mask)\n",
    "image_out(masked_image)\n",
    "\n",
    "contours, _ = cv2.findContours(Mask, cv2.RETR_TREE, cv2.CHAIN_APPROX_SIMPLE)\n",
    "\n",
    "triangle_count = 0\n",
    "\n",
    "# Step 5: Loop over the contours to identify triangles\n",
    "for contour in contours:\n",
    "    # Approximate the contour to reduce the number of points\n",
    "    epsilon = 0.005* cv2.arcLength(contour, True)\n",
    "    approx = cv2.approxPolyDP(contour, epsilon, True)\n",
    "\n",
    "    # If the approximated contour has 3 vertices, it's a triangle\n",
    "    if len(approx) == 3:\n",
    "        triangle_count += 1\n",
    "        cv2.drawContours(masked_image, [approx], 0, (0, 255, 0), 2)   #Optionally draw the triangle\n",
    "\n",
    "# Step 6: Display the number of triangles found\n",
    "image_out(masked_image)\n",
    "print(f\"Number of houses found: {triangle_count}\")\n",
    "\n",
    "output_image = image.copy()\n",
    "output_image[mask_brown != 0] = [13, 218, 253]  # Overlay burnt grass in yellow\n",
    "output_image[mask_green != 0] = [255, 255, 0]  # Overlay unburnt grass in cyan\n",
    "image_out(output_image)\n"
   ]
  }
 ],
 "metadata": {
  "kernelspec": {
   "display_name": "Python 3",
   "language": "python",
   "name": "python3"
  },
  "language_info": {
   "codemirror_mode": {
    "name": "ipython",
    "version": 3
   },
   "file_extension": ".py",
   "mimetype": "text/x-python",
   "name": "python",
   "nbconvert_exporter": "python",
   "pygments_lexer": "ipython3",
   "version": "3.12.7"
  }
 },
 "nbformat": 4,
 "nbformat_minor": 2
}
